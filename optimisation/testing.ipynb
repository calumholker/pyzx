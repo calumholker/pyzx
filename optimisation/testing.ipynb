{
 "cells": [
  {
   "cell_type": "code",
   "execution_count": 2,
   "metadata": {},
   "outputs": [],
   "source": [
    "import sys\n",
    "import os\n",
    "sys.path.append('..')\n",
    "import pyzx as zx"
   ]
  },
  {
   "cell_type": "code",
   "execution_count": 9,
   "metadata": {},
   "outputs": [
    {
     "name": "stdout",
     "output_type": "stream",
     "text": [
      "5 59 22 24\n",
      "11 191 27 122\n",
      "7 111 45 56\n",
      "5 248 85 98\n",
      "13 69 14 45\n",
      "10 162 42 84\n",
      "19 206 40 144\n",
      "6 139 44 78\n",
      "8 216 43 106\n",
      "10 179 53 84\n",
      "15 90 16 44\n",
      "13 70 6 42\n",
      "8 53 17 28\n",
      "9 150 38 93\n",
      "9 82 16 49\n",
      "15 226 75 105\n",
      "17 208 25 162\n",
      "18 135 43 72\n",
      "12 240 50 131\n",
      "5 61 11 38\n"
     ]
    }
   ],
   "source": [
    "for filename in os.listdir('generated_circuits'):\n",
    "    c = zx.Circuit.load(os.path.join('generated_circuits', filename))\n",
    "    print(c.qubits, len(c.gates), c.tcount(), c.twoqubitcount())\n",
    "    "
   ]
  },
  {
   "cell_type": "code",
   "execution_count": null,
   "metadata": {},
   "outputs": [],
   "source": []
  }
 ],
 "metadata": {
  "kernelspec": {
   "display_name": "pyzx",
   "language": "python",
   "name": "python3"
  },
  "language_info": {
   "codemirror_mode": {
    "name": "ipython",
    "version": 3
   },
   "file_extension": ".py",
   "mimetype": "text/x-python",
   "name": "python",
   "nbconvert_exporter": "python",
   "pygments_lexer": "ipython3",
   "version": "3.11.3"
  },
  "orig_nbformat": 4
 },
 "nbformat": 4,
 "nbformat_minor": 2
}
